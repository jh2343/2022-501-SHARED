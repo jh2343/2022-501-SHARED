{
 "cells": [
  {
   "cell_type": "raw",
   "metadata": {},
   "source": [
    "---\n",
    "title: \"matplotlib demo\"\n",
    "format:\n",
    "  html:\n",
    "    code-fold: true\n",
    "jupyter: python3\n",
    "---"
   ]
  },
  {
   "cell_type": "markdown",
   "metadata": {},
   "source": [
    "#### Combinatorics \n",
    "\n",
    "**Author**: J. Hickman\n",
    "\n",
    "If the feature set is small then we can iterator over all possible combinations of feature subsets \n",
    "\n",
    "However,for large data-sets this becomes impractical.\n",
    "\n",
    "This can be iteration can be done with the following python code"
   ]
  },
  {
   "cell_type": "code",
   "execution_count": 2,
   "metadata": {},
   "outputs": [
    {
     "name": "stdout",
     "output_type": "stream",
     "text": [
      "list1 = [1, 2, 3, 4]\n",
      "[1]\n",
      "[2]\n",
      "[3]\n",
      "[4]\n",
      "[1, 2]\n",
      "[1, 3]\n",
      "[1, 4]\n",
      "[2, 3]\n",
      "[2, 4]\n",
      "[3, 4]\n",
      "[1, 2, 3]\n",
      "[1, 2, 4]\n",
      "[1, 3, 4]\n",
      "[2, 3, 4]\n",
      "[1, 2, 3, 4]\n",
      "number of subsets = 15\n"
     ]
    }
   ],
   "source": [
    "#modified from: https://stackoverflow.com/questions/464864/how-to-get-all-possible-combinations-of-a-list-s-elements\n",
    "import itertools\n",
    "n_features=4\n",
    "list1 = [*range(1,n_features+1)]; \n",
    "print(\"list1 =\",list1)\n",
    "count=0\n",
    "for L in range(1,len(list1) + 1):\n",
    "    for subset in itertools.combinations(list1, L):\n",
    "        print(list(subset))\n",
    "        count+=1\n",
    "print(\"number of subsets =\",count)"
   ]
  },
  {
   "cell_type": "code",
   "execution_count": 3,
   "metadata": {},
   "outputs": [],
   "source": [
    "# EXPECTED \n",
    "#x1\n",
    "#x2\n",
    "#x3\n",
    "#x4\n",
    "#x1,x2 \n",
    "#x1,x3 \n",
    "#x1,x4 \n",
    "#x2,x3 \n",
    "#x2,x4\n",
    "#x3,x4\n",
    "#x1,x2,x3\n",
    "#x1,x2,x4\n",
    "#x1,x3,x4\n",
    "#x1,x2,x3,x4"
   ]
  },
  {
   "cell_type": "markdown",
   "metadata": {},
   "source": [
    "#### Loop over number of features "
   ]
  },
  {
   "cell_type": "code",
   "execution_count": 4,
   "metadata": {},
   "outputs": [
    {
     "name": "stdout",
     "output_type": "stream",
     "text": [
      "5\n",
      "10\n",
      "[1, 2, 3, 4, 5, 6, 7, 8, 9, 10, 11, 12, 13, 14]\n",
      "[1, 3, 7, 15, 31, 63, 127, 255, 511, 1023, 2047, 4095, 8191, 16383]\n"
     ]
    }
   ],
   "source": [
    "nF=[]\n",
    "nS=[]\n",
    "for n_features in range(1,15):\n",
    "    if(n_features % 5 ==0): print(n_features)\n",
    "    count=0\n",
    "    list1 = [*range(1,n_features+1)]; \n",
    "    #print(\"list1 =\",list1)\n",
    "    for L in range(1,len(list1) + 1):\n",
    "        for subset in itertools.combinations(list1, L):\n",
    "            #print(list(subset))\n",
    "            count+=1\n",
    "    nF.append(n_features)\n",
    "    nS.append(count)\n",
    "\n",
    "print(nF); print(nS)"
   ]
  },
  {
   "cell_type": "code",
   "execution_count": 5,
   "metadata": {},
   "outputs": [
    {
     "name": "stdout",
     "output_type": "stream",
     "text": [
      "[ 1.          0.69314718 -1.        ]\n"
     ]
    }
   ],
   "source": [
    "# CURVE FIT FOR FUN\n",
    "import numpy as np\n",
    "from scipy.optimize import curve_fit\n",
    "x = np.array(nF)\n",
    "y = np.array(nS)\n",
    "\n",
    "def func(x, a, b, c):\n",
    "    return  a*np.exp(b*(x))+c\n",
    "\n",
    "initial_parameter_guess=np.array([ 0.45 ,1.1,-1.1])\n",
    "popt, pcov = curve_fit(func, x, y,p0=initial_parameter_guess,maxfev=2000)\n",
    "print(popt)\n",
    "yfit=func(x,popt[0],popt[1],popt[2])"
   ]
  },
  {
   "cell_type": "code",
   "execution_count": 7,
   "metadata": {},
   "outputs": [
    {
     "name": "stdout",
     "output_type": "stream",
     "text": [
      "RMSE: 1.9527554176842644e-12\n"
     ]
    },
    {
     "data": {
      "text/plain": [
       "<matplotlib.pyplot._IonContext at 0x7fb5c6d9cfd0>"
      ]
     },
     "execution_count": 7,
     "metadata": {},
     "output_type": "execute_result"
    },
    {
     "data": {
      "image/png": "[encoded data removed]",
      "text/plain": [
       "<Figure size 432x288 with 1 Axes>"
      ]
     },
     "metadata": {
      "needs_background": "light"
     },
     "output_type": "display_data"
    }
   ],
   "source": [
    "#PLOT-1\n",
    "\n",
    "import matplotlib.pyplot as plt\n",
    "plt.plot(nF,nS,'or')\n",
    "plt.plot(nF,yfit,'-b')\n",
    "print(\"RMSE:\",np.mean(np.sqrt((nS-yfit)**2.0)))\n",
    "plt.xlabel('Number of features')\n",
    "plt.ylabel('Number of possible subsets')\n",
    "plt.show()\n",
    "# plt.ion()\n",
    "\n"
   ]
  },
  {
   "cell_type": "code",
   "execution_count": null,
   "metadata": {},
   "outputs": [],
   "source": []
  }
 ],
 "metadata": {
  "kernelspec": {
   "display_name": "Python 3 (ipykernel)",
   "language": "python",
   "name": "python3"
  },
  "language_info": {
   "codemirror_mode": {
    "name": "ipython",
    "version": 3
   },
   "file_extension": ".py",
   "mimetype": "text/x-python",
   "name": "python",
   "nbconvert_exporter": "python",
   "pygments_lexer": "ipython3",
   "version": "3.10.4"
  },
  "vscode": {
   "interpreter": {
    "hash": "3bbb781ca6673b7d7a2eaec0820775eebfaab6ec1fac7365fb415515f8c23aa5"
   }
  }
 },
 "nbformat": 4,
 "nbformat_minor": 2
}
