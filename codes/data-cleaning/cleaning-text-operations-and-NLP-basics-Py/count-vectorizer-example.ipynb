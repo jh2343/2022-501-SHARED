{
 "cells": [
  {
   "cell_type": "markdown",
   "metadata": {},
   "source": [
    "### Count-Vectorizer basic example\n",
    "\n",
    "Author: Dr. Hickman "
   ]
  },
  {
   "cell_type": "code",
   "execution_count": 12,
   "metadata": {},
   "outputs": [],
   "source": [
    "### IMPORT PACKAGES \n",
    "from sklearn.feature_extraction.text import CountVectorizer\n",
    "import numpy as np\n"
   ]
  },
  {
   "cell_type": "code",
   "execution_count": 13,
   "metadata": {},
   "outputs": [],
   "source": [
    "### DEFINE A TOY CORPUS \n",
    "corpus = [\n",
    "    'This is the first document.',\n",
    "    'This document is the second document.',\n",
    "    'And this is the third one, test, test, test',\n",
    "    'Is this the first document? test test',\n",
    "]\n"
   ]
  },
  {
   "cell_type": "code",
   "execution_count": 14,
   "metadata": {},
   "outputs": [],
   "source": [
    "# INITIALIZE COUNT VECTORIZER\n",
    "vectorizer=CountVectorizer()   \n"
   ]
  },
  {
   "cell_type": "code",
   "execution_count": 15,
   "metadata": {},
   "outputs": [
    {
     "name": "stdout",
     "output_type": "stream",
     "text": [
      "<class 'scipy.sparse.csr.csr_matrix'>\n"
     ]
    }
   ],
   "source": [
    "# RUN COUNT VECTORIZER ON OUR COURPUS \n",
    "Xs  =  vectorizer.fit_transform(corpus)   \n",
    "print(type(Xs))"
   ]
  },
  {
   "cell_type": "code",
   "execution_count": 16,
   "metadata": {},
   "outputs": [
    {
     "name": "stdout",
     "output_type": "stream",
     "text": [
      "vocabulary =  {'this': 9, 'is': 3, 'the': 7, 'first': 2, 'document': 1, 'second': 5, 'and': 0, 'third': 8, 'one': 4, 'test': 6}\n",
      "stop words = None\n",
      "col_names= ['and' 'document' 'first' 'is' 'one' 'second' 'test' 'the' 'third' 'this']\n"
     ]
    }
   ],
   "source": [
    "### EXPLORE THE OBJECT ATTRIBUTES \n",
    "\n",
    "# VOCABULARY DICTIONARY\n",
    "print(\"vocabulary = \",vectorizer.vocabulary_)   \n",
    "\n",
    "# STOP WORDS \n",
    "print(\"stop words =\", vectorizer.stop_words)\n",
    "\n",
    "# col_names\n",
    "col_names=vectorizer.get_feature_names_out()\n",
    "print(\"col_names=\",col_names)\n"
   ]
  },
  {
   "cell_type": "code",
   "execution_count": 17,
   "metadata": {},
   "outputs": [
    {
     "name": "stdout",
     "output_type": "stream",
     "text": [
      "SPARSE MATRIX\n",
      "   (0, 9)\t1\n",
      "  (0, 3)\t1\n",
      "  (0, 7)\t1\n",
      "  (0, 2)\t1\n",
      "  (0, 1)\t1\n",
      "  (1, 9)\t1\n",
      "  (1, 3)\t1\n",
      "  (1, 7)\t1\n",
      "  (1, 1)\t2\n",
      "  (1, 5)\t1\n",
      "  (2, 9)\t1\n",
      "  (2, 3)\t1\n",
      "  (2, 7)\t1\n",
      "  (2, 0)\t1\n",
      "  (2, 8)\t1\n",
      "  (2, 4)\t1\n",
      "  (2, 6)\t3\n",
      "  (3, 9)\t1\n",
      "  (3, 3)\t1\n",
      "  (3, 7)\t1\n",
      "  (3, 2)\t1\n",
      "  (3, 1)\t1\n",
      "  (3, 6)\t2\n"
     ]
    }
   ],
   "source": [
    "# X  =  vectorizer.fit_transform(corpus)   --> returns a SPARSE document term frequency matrix\n",
    "print(\"SPARSE MATRIX\\n\",Xs)"
   ]
  },
  {
   "cell_type": "code",
   "execution_count": 18,
   "metadata": {},
   "outputs": [
    {
     "name": "stdout",
     "output_type": "stream",
     "text": [
      "CORPUS= ['This is the first document.', 'This document is the second document.', 'And this is the third one, test, test, test', 'Is this the first document? test test']\n",
      "COLUMN NAMES= ['and' 'document' 'first' 'is' 'one' 'second' 'test' 'the' 'third' 'this']\n",
      "DOCUMENT WORD COUNTS\n",
      "SPARSE MATRIX\n",
      " [[0 1 1 1 0 0 0 1 0 1]\n",
      " [0 2 0 1 0 1 0 1 0 1]\n",
      " [1 0 0 1 1 0 3 1 1 1]\n",
      " [0 1 1 1 0 0 2 1 0 1]]\n"
     ]
    }
   ],
   "source": [
    "#CONVERT TO DENSE MATRIX\n",
    "X=np.array(Xs.todense())\n",
    "print(\"CORPUS=\",corpus)\n",
    "print(\"COLUMN NAMES=\",col_names)\n",
    "print(\"DOCUMENT WORD COUNTS\")\n",
    "print(\"SPARSE MATRIX\\n\",X)                        \n"
   ]
  },
  {
   "cell_type": "code",
   "execution_count": 19,
   "metadata": {},
   "outputs": [
    {
     "name": "stdout",
     "output_type": "stream",
     "text": [
      "COLUMN NAMES= ['and' 'document' 'first' 'is' 'one' 'second' 'test' 'the' 'third' 'this']\n",
      "CORPUS WIDE WORD COUNTS: [1 4 2 4 1 1 5 4 1 4]\n",
      "WORDS PER DOCUMENT:\n",
      " [5 6 9 7]\n"
     ]
    }
   ],
   "source": [
    "print(\"COLUMN NAMES=\",col_names)\n",
    "print(\"CORPUS WIDE WORD COUNTS:\",np.sum(X,axis=0))\n",
    "print(\"WORDS PER DOCUMENT:\\n\",np.sum(X,axis=1))"
   ]
  },
  {
   "cell_type": "code",
   "execution_count": 20,
   "metadata": {},
   "outputs": [
    {
     "name": "stdout",
     "output_type": "stream",
     "text": [
      "MAX COUNT: [1 2 1 1 1 1 3 1 1 1]\n",
      "ONE_HOT_ENCODED\n",
      "[[0. 1. 1. 1. 0. 0. 0. 1. 0. 1.]\n",
      " [0. 1. 0. 1. 0. 1. 0. 1. 0. 1.]\n",
      " [1. 0. 0. 1. 1. 0. 1. 1. 1. 1.]\n",
      " [0. 1. 1. 1. 0. 0. 1. 1. 0. 1.]]\n"
     ]
    }
   ],
   "source": [
    "#CONVERT DOCUMENT TERM FREQUENCY TO ONE HOT ENCODED VECTORS\n",
    "maxs=np.max(X,axis=0)\n",
    "ONE_HOT_ENCODED=np.ceil(X/maxs)\n",
    "print(\"MAX COUNT:\",maxs)\n",
    "print(\"ONE_HOT_ENCODED\")\n",
    "print(ONE_HOT_ENCODED)"
   ]
  },
  {
   "cell_type": "code",
   "execution_count": 21,
   "metadata": {},
   "outputs": [
    {
     "name": "stdout",
     "output_type": "stream",
     "text": [
      "--------------------------------------------\n",
      "DOC-i= 0 DOC-j= 0\n",
      "     CARTESIAN: 0.0\n",
      "     COSINE SIMILARITY: 1.0\n",
      "     COSINE DISTANCE: 0.0\n",
      "DOC-i= 0 DOC-j= 1\n",
      "     CARTESIAN: 1.7320508075688772\n",
      "     COSINE SIMILARITY: 0.7905694150420948\n",
      "     COSINE DISTANCE: 0.20943058495790523\n",
      "DOC-i= 0 DOC-j= 2\n",
      "     CARTESIAN: 3.7416573867739413\n",
      "     COSINE SIMILARITY: 0.34641016151377546\n",
      "     COSINE DISTANCE: 0.6535898384862245\n",
      "DOC-i= 0 DOC-j= 3\n",
      "     CARTESIAN: 2.0\n",
      "     COSINE SIMILARITY: 0.7453559924999299\n",
      "     COSINE DISTANCE: 0.2546440075000701\n",
      "DOC-i= 1 DOC-j= 1\n",
      "     CARTESIAN: 0.0\n",
      "     COSINE SIMILARITY: 0.9999999999999999\n",
      "     COSINE DISTANCE: 1.1102230246251565e-16\n",
      "DOC-i= 1 DOC-j= 2\n",
      "     CARTESIAN: 4.123105625617661\n",
      "     COSINE SIMILARITY: 0.27386127875258304\n",
      "     COSINE DISTANCE: 0.726138721247417\n",
      "DOC-i= 1 DOC-j= 3\n",
      "     CARTESIAN: 2.6457513110645907\n",
      "     COSINE SIMILARITY: 0.5892556509887895\n",
      "     COSINE DISTANCE: 0.4107443490112105\n",
      "DOC-i= 2 DOC-j= 2\n",
      "     CARTESIAN: 0.0\n",
      "     COSINE SIMILARITY: 0.9999999999999999\n",
      "     COSINE DISTANCE: 1.1102230246251565e-16\n",
      "DOC-i= 2 DOC-j= 3\n",
      "     CARTESIAN: 2.449489742783178\n",
      "     COSINE SIMILARITY: 0.7745966692414834\n",
      "     COSINE DISTANCE: 0.2254033307585166\n",
      "DOC-i= 3 DOC-j= 3\n",
      "     CARTESIAN: 0.0\n",
      "     COSINE SIMILARITY: 1.0\n",
      "     COSINE DISTANCE: 0.0\n",
      "--------------------------------------------\n"
     ]
    }
   ],
   "source": [
    "#------------------------\n",
    "# #COMPUTE PAIRWISE DISTANCES BETWEEN DOCUMENTS \n",
    "#------------------------\n",
    "\n",
    "print(\"--------------------------------------------\")\n",
    "#LOOP OVER ROWS (DOCUMENTS)\n",
    "for i in range(0,X.shape[0]):\n",
    "    # for j in range(i+1,len(X)):\n",
    "    for j in range(i,X.shape[0]):\n",
    "        print(\"DOC-i=\",i,\"DOC-j=\",j); #print(X[i,:]); print(X[j,:])\n",
    "        print(\"     CARTESIAN:\",(np.sum((X[i,:]-X[j,:])**2.0)**0.5))\n",
    "\n",
    "        #CARTESIAN DISTANCE\n",
    "        CS=np.dot(X[i,:],X[j,:])/np.linalg.norm(X[i,:])/np.linalg.norm(X[j,:])\n",
    "        print(\"     COSINE SIMILARITY:\",CS)\n",
    "        print(\"     COSINE DISTANCE:\",1.0-CS)\n",
    "print(\"--------------------------------------------\")\n"
   ]
  },
  {
   "cell_type": "code",
   "execution_count": 22,
   "metadata": {},
   "outputs": [
    {
     "name": "stdout",
     "output_type": "stream",
     "text": [
      "        and  document     first        is       one    second      test  \\\n",
      "0  0.000008  1.000004  1.000007  1.000008  0.000002  0.000007  0.000008   \n",
      "1  0.000009  2.000009  0.000004  1.000008  0.000004  1.000001  0.000003   \n",
      "2  1.000008  0.000004  0.000002  1.000002  1.000009  0.000007  3.000000   \n",
      "3  0.000002  1.000001  1.000006  1.000001  0.000008  0.000002  2.000003   \n",
      "\n",
      "        the         third      this  \n",
      "0  1.000008  1.341547e-06  1.000004  \n",
      "1  1.000005  8.861815e-06  1.000007  \n",
      "2  1.000004  1.000004e+00  1.000002  \n",
      "3  1.000001  2.690982e-07  1.000010  \n",
      "            and  document     first        is       one    second      test  \\\n",
      "count  4.000000  4.000000  4.000000  4.000000  4.000000  4.000000  4.000000   \n",
      "mean   0.250007  1.000004  0.500005  1.000005  0.250006  0.250004  1.250003   \n",
      "std    0.500001  0.816498  0.577352  0.000004  0.500002  0.499998  1.499998   \n",
      "min    0.000002  0.000004  0.000002  1.000001  0.000002  0.000002  0.000003   \n",
      "25%    0.000006  0.750001  0.000003  1.000002  0.000004  0.000006  0.000006   \n",
      "50%    0.000008  1.000002  0.500005  1.000005  0.000006  0.000007  1.000005   \n",
      "75%    0.250009  1.250005  1.000007  1.000008  0.250008  0.250006  2.250002   \n",
      "max    1.000008  2.000009  1.000007  1.000008  1.000009  1.000001  3.000000   \n",
      "\n",
      "            the         third      this  \n",
      "count  4.000000  4.000000e+00  4.000000  \n",
      "mean   1.000005  2.500037e-01  1.000006  \n",
      "std    0.000003  5.000004e-01  0.000003  \n",
      "min    1.000001  2.690982e-07  1.000002  \n",
      "25%    1.000003  1.073435e-06  1.000003  \n",
      "50%    1.000005  5.101681e-06  1.000005  \n",
      "75%    1.000006  2.500077e-01  1.000007  \n",
      "max    1.000008  1.000004e+00  1.000010  \n",
      "CORR=                and  document     first        is       one    second  \\\n",
      "and       1.000000 -0.816492 -0.577354 -0.483436  1.000000 -0.333328   \n",
      "document -0.816492  1.000000 -0.000002  0.651970 -0.816495  0.816497   \n",
      "first    -0.577354 -0.000002  1.000000 -0.084677 -0.577350 -0.577351   \n",
      "is       -0.483436  0.651970 -0.084677  1.000000 -0.483446  0.581222   \n",
      "one       1.000000 -0.816495 -0.577350 -0.483446  1.000000 -0.333333   \n",
      "second   -0.333328  0.816497 -0.577351  0.581222 -0.333333  1.000000   \n",
      "test      0.777774 -0.816497 -0.192450 -0.926189  0.777781 -0.555558   \n",
      "the      -0.100415  0.181669 -0.082982  0.863790 -0.100425  0.196245   \n",
      "third     1.000000 -0.816490 -0.577357 -0.483437  1.000000 -0.333325   \n",
      "this     -0.686043  0.537217  0.428512 -0.233440 -0.686036  0.191232   \n",
      "\n",
      "              test       the     third      this  \n",
      "and       0.777774 -0.100415  1.000000 -0.686043  \n",
      "document -0.816497  0.181669 -0.816490  0.537217  \n",
      "first    -0.192450 -0.082982 -0.577357  0.428512  \n",
      "is       -0.926189  0.863790 -0.483437 -0.233440  \n",
      "one       0.777781 -0.100425  1.000000 -0.686036  \n",
      "second   -0.555558  0.196245 -0.333325  0.191232  \n",
      "test      1.000000 -0.665724  0.777775 -0.125659  \n",
      "the      -0.665724  1.000000 -0.100418 -0.649807  \n",
      "third     0.777775 -0.100418  1.000000 -0.686040  \n",
      "this     -0.125659 -0.649807 -0.686040  1.000000  \n"
     ]
    },
    {
     "data": {
      "image/png": "[encoded data removed]",
      "text/plain": [
       "<Figure size 640x480 with 2 Axes>"
      ]
     },
     "metadata": {},
     "output_type": "display_data"
    }
   ],
   "source": [
    "\n",
    "#------------------------\n",
    "#PANDAS AND SEABORN STUFF\n",
    "#------------------------\n",
    "import pandas as pd\n",
    "import seaborn as sns\n",
    "import matplotlib.pyplot as plt\n",
    "\n",
    "noise=np.random.uniform(0,0.00001,X.shape) \n",
    "\n",
    "df=pd.DataFrame(noise+X, columns=col_names)\n",
    "#REORDER FROM MOST FREQUENT WORD IN CORPUS TO LEAST\n",
    "# MAX_WORD=min(len(SORTED_COL_NAME),5)\n",
    "# df=df[SORTED_COL_NAME[0:MAX_WORD]]\n",
    "print(df)\n",
    "\n",
    "print(df.describe())\n",
    "corr=df.corr()\n",
    "print(\"CORR=\",corr)\n",
    "\n",
    "# sns.pairplot(df, diag_kind='kde', kind=\"hist\")  # SLOWER\n",
    "# plt.show()\n",
    "\n",
    "# # Draw the heatmap with the mask and correct aspect ratio\n",
    "sns.heatmap(corr, vmax=1, center=0,\n",
    "            square=True, linewidths=.5, cbar_kws={\"shrink\": .5})\n",
    "plt.show()"
   ]
  }
 ],
 "metadata": {
  "kernelspec": {
   "display_name": "Python 3.10.4 ('ANLY501')",
   "language": "python",
   "name": "python3"
  },
  "language_info": {
   "codemirror_mode": {
    "name": "ipython",
    "version": 3
   },
   "file_extension": ".py",
   "mimetype": "text/x-python",
   "name": "python",
   "nbconvert_exporter": "python",
   "pygments_lexer": "ipython3",
   "version": "3.10.4"
  },
  "orig_nbformat": 4,
  "vscode": {
   "interpreter": {
    "hash": "3bbb781ca6673b7d7a2eaec0820775eebfaab6ec1fac7365fb415515f8c23aa5"
   }
  }
 },
 "nbformat": 4,
 "nbformat_minor": 2
}
