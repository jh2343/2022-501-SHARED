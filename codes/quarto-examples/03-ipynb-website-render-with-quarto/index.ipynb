{
  "cells": [
    {
      "cell_type": "raw",
      "metadata": {},
      "source": [
        "---\n",
        "pdf-engine: lualatex\n",
        "format:\n",
        "  html:\n",
        "    toc: true\n",
        "    code-fold: true\n",
        "    toc-title: Contents\n",
        "    bibliography: references.bib\n",
        "    number-sections: true\n",
        "execute:\n",
        "  echo: false\n",
        "---"
      ]
    },
    {
      "cell_type": "markdown",
      "metadata": {},
      "source": [
        "# Introduction \n",
        "\n",
        "Here is an example of a citation [@sharma2018nickel]\n",
        "\n",
        "To render the website just run \"quarto preview\" from the command line!! \n",
        "\n",
        "(see here https://quarto.org/docs/websites/)"
      ]
    }
  ],
  "metadata": {
    "kernelspec": {
      "display_name": "Python 3.10.4 ('ANLY590')",
      "language": "python",
      "name": "python3"
    },
    "language_info": {
      "codemirror_mode": {
        "name": "ipython",
        "version": 3
      },
      "file_extension": ".py",
      "mimetype": "text/x-python",
      "name": "python",
      "nbconvert_exporter": "python",
      "pygments_lexer": "ipython3",
      "version": "3.10.4"
    },
    "vscode": {
      "interpreter": {
        "hash": "2b6082c1c9eef3a910163f232074f2e179e34ed8469dd2c24c723d1290ad549e"
      }
    }
  },
  "nbformat": 4,
  "nbformat_minor": 4
}
