{
 "cells": [
  {
   "cell_type": "markdown",
   "metadata": {},
   "source": [
    "### Import"
   ]
  },
  {
   "cell_type": "code",
   "execution_count": 30,
   "metadata": {},
   "outputs": [],
   "source": [
    "import numpy as np\n",
    "import random\n",
    "from collections import Counter\n",
    "from sklearn.metrics import accuracy_score\n",
    "from sklearn.metrics import precision_recall_fscore_support"
   ]
  },
  {
   "cell_type": "markdown",
   "metadata": {},
   "source": [
    "### Generate data"
   ]
  },
  {
   "cell_type": "code",
   "execution_count": 28,
   "metadata": {},
   "outputs": [
    {
     "name": "stdout",
     "output_type": "stream",
     "text": [
      "-----GENERATING DATA-----\n",
      "unique entries: dict_keys([0, 1])\n",
      "count of labels: dict_values([7015, 2985])\n",
      "probability of labels: [0.7015 0.2985]\n"
     ]
    }
   ],
   "source": [
    "def generate_label_data(class_labels, weights,N=10000):\n",
    "    #e.g. class_labels=[0,1]  weights=[0.2,0.8] (should sum to one)\n",
    "\n",
    "    y=random.choices(class_labels, weights = weights, k = N)\n",
    "    print(\"-----GENERATING DATA-----\")\n",
    "    print(\"unique entries:\",Counter(y).keys())  \n",
    "    print(\"count of labels:\",Counter(y).values()) # counts the elements' frequency\n",
    "    print(\"probability of labels:\",np.fromiter(Counter(y).values(), dtype=float)/len(y)) # counts the elements' frequency\n",
    "    return y\n",
    "\n",
    "#TEST\n",
    "y=generate_label_data([0,1],[0.7,0.3],10000)\n"
   ]
  },
  {
   "cell_type": "code",
   "execution_count": 38,
   "metadata": {},
   "outputs": [
    {
     "name": "stdout",
     "output_type": "stream",
     "text": [
      "\n",
      "BINARY CLASS: UNIFORM LOAD\n",
      "-----GENERATING DATA-----\n",
      "unique entries: dict_keys([0, 1])\n",
      "count of labels: dict_values([4992, 5008])\n",
      "probability of labels: [0.4992 0.5008]\n",
      "-----RANDOM CLASSIFIER-----\n",
      "count of prediction: dict_values([5019, 4981])\n",
      "probability of prediction: [0.5019 0.4981]\n",
      "accuracy 0.4969\n",
      "percision, recall, fscore, (array([0.49611476, 0.49769123]), array([0.49879808, 0.49500799]), array([0.4974528 , 0.49634598]), array([4992, 5008]))\n",
      "\n",
      "BINARY CLASS: NON UNIFORM LOAD\n",
      "-----GENERATING DATA-----\n",
      "unique entries: dict_keys([1, 0])\n",
      "count of labels: dict_values([9013, 987])\n",
      "probability of labels: [0.9013 0.0987]\n",
      "-----RANDOM CLASSIFIER-----\n",
      "count of prediction: dict_values([5039, 4961])\n",
      "probability of prediction: [0.5039 0.4961]\n",
      "accuracy 0.5062\n",
      "percision, recall, fscore, (array([0.10179399, 0.9043461 ]), array([0.51165147, 0.50560302]), array([0.16980498, 0.64859095]), array([ 987, 9013]))\n",
      "\n",
      "MULTI-CLASS:  UNIFORM LOAD\n",
      "-----GENERATING DATA-----\n",
      "unique entries: dict_keys([0, 1, 4, 3, 2])\n",
      "count of labels: dict_values([2007, 2041, 1945, 2070, 1937])\n",
      "probability of labels: [0.2007 0.2041 0.1945 0.207  0.1937]\n",
      "-----RANDOM CLASSIFIER-----\n",
      "count of prediction: dict_values([2115, 1958, 1954, 1980, 1993])\n",
      "probability of prediction: [0.2115 0.1958 0.1954 0.198  0.1993]\n",
      "accuracy 0.2008\n",
      "percision, recall, fscore, (array([0.19765066, 0.20567376, 0.19393939, 0.2082288 , 0.19805527]), array([0.19282511, 0.21313082, 0.19824471, 0.20048309, 0.19897172]), array([0.19520807, 0.2093359 , 0.19606842, 0.20428255, 0.19851244]), array([2007, 2041, 1937, 2070, 1945]))\n",
      "\n",
      "MULTI-CLASS:  NON-UNIFORM LOAD\n",
      "-----GENERATING DATA-----\n",
      "unique entries: dict_keys([3, 2, 0, 4, 1])\n",
      "count of labels: dict_values([982, 1973, 5025, 1028, 992])\n",
      "probability of labels: [0.0982 0.1973 0.5025 0.1028 0.0992]\n",
      "-----RANDOM CLASSIFIER-----\n",
      "count of prediction: dict_values([1976, 2022, 1969, 2134, 1899])\n",
      "probability of prediction: [0.1976 0.2022 0.1969 0.2134 0.1899]\n",
      "accuracy 0.2003\n",
      "percision, recall, fscore, (array([0.4901088 , 0.09465792, 0.19905213, 0.10779352, 0.11122397]), array([0.19721393, 0.20362903, 0.19158642, 0.21690428, 0.21303502]), array([0.28125443, 0.12923864, 0.19524793, 0.14401623, 0.14614615]), array([5025,  992, 1973,  982, 1028]))\n"
     ]
    }
   ],
   "source": [
    "## RANDOM CLASSIFIER \n",
    "def random_classifier(y_data):\n",
    "    ypred=[];\n",
    "    max_label=np.max(y_data); #print(max_label)\n",
    "    for i in range(0,len(y_data)):\n",
    "        ypred.append(int(np.floor((max_label+1)*np.random.uniform(0,1))))\n",
    "\n",
    "    print(\"-----RANDOM CLASSIFIER-----\")\n",
    "    print(\"count of prediction:\",Counter(ypred).values()) # counts the elements' frequency\n",
    "    print(\"probability of prediction:\",np.fromiter(Counter(ypred).values(), dtype=float)/len(y_data)) # counts the elements' frequency\n",
    "    print(\"accuracy\",accuracy_score(y_data, ypred))\n",
    "    print(\"percision, recall, fscore,\",precision_recall_fscore_support(y_data, ypred))\n",
    "\n",
    "print(\"\\nBINARY CLASS: UNIFORM LOAD\")\n",
    "y=generate_label_data([0,1],[0.5,0.5],10000)\n",
    "random_classifier(y)\n",
    "\n",
    "print(\"\\nBINARY CLASS: NON UNIFORM LOAD\")\n",
    "y=generate_label_data([0,1],[0.1,0.9],10000)\n",
    "random_classifier(y)\n",
    "\n",
    "print(\"\\nMULTI-CLASS:  UNIFORM LOAD\")\n",
    "y=generate_label_data([0,1,2,3,4],[0.2,0.2,0.2,0.2,0.2],10000)\n",
    "random_classifier(y)\n",
    "\n",
    "print(\"\\nMULTI-CLASS:  NON-UNIFORM LOAD\")\n",
    "y=generate_label_data([0,1,2,3,4],[0.5,0.1,0.2,0.1,0.1],10000)\n",
    "random_classifier(y)\n"
   ]
  },
  {
   "cell_type": "markdown",
   "metadata": {},
   "source": [
    "### Extra code"
   ]
  },
  {
   "cell_type": "code",
   "execution_count": 10,
   "metadata": {},
   "outputs": [],
   "source": [
    "# from sklearn.metrics import accuracy_score\n",
    "# y_pred = [0, 2, 1, 0, 1, 3]\n",
    "# y_true = [0, 1, 2, 0, 1, 3]\n",
    "# print(\"accuracy\",accuracy_score(y_true, y_pred))\n",
    "# print(\"number correct:\",accuracy_score(y_true, y_pred, normalize=False))\n",
    "# # print(accuracy_score(y_true, y_pred, normalize=False)/len(y_pred))"
   ]
  },
  {
   "cell_type": "code",
   "execution_count": 11,
   "metadata": {},
   "outputs": [],
   "source": [
    "# ### SANITY CHECK (UNIFORM RANDOM INTEGER GENERATOR)\n",
    "# class_labels = np.array([0, 1,2,3])\n",
    "# tmp=[]\n",
    "# for i in range(0,10000):\n",
    "#     tmp.append(int(np.floor((np.max(class_labels)+1)*np.random.uniform(0,1))))\n",
    "# print(\"count of labels:\",Counter(tmp).values()) # counts the elements' frequency\n"
   ]
  },
  {
   "cell_type": "code",
   "execution_count": null,
   "metadata": {},
   "outputs": [],
   "source": [
    "\n",
    "\n",
    "# traversing the array\n",
    "# count=0; unique=[]\n",
    "# for item in Y:\n",
    "#     if item not in l1:\n",
    "#         count += 1 \n",
    "#         unique.append(item)\n",
    "# print(count,l1)"
   ]
  }
 ],
 "metadata": {
  "kernelspec": {
   "display_name": "Python 3.10.4 ('ANLY501')",
   "language": "python",
   "name": "python3"
  },
  "language_info": {
   "codemirror_mode": {
    "name": "ipython",
    "version": 3
   },
   "file_extension": ".py",
   "mimetype": "text/x-python",
   "name": "python",
   "nbconvert_exporter": "python",
   "pygments_lexer": "ipython3",
   "version": "3.10.4"
  },
  "orig_nbformat": 4,
  "vscode": {
   "interpreter": {
    "hash": "3bbb781ca6673b7d7a2eaec0820775eebfaab6ec1fac7365fb415515f8c23aa5"
   }
  }
 },
 "nbformat": 4,
 "nbformat_minor": 2
}
