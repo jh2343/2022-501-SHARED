{
 "cells": [
  {
   "cell_type": "markdown",
   "metadata": {},
   "source": [
    "## Model Training \n",
    "\n",
    "**Author: J. Hickman**\n",
    "* This notebook vectorizes the corpus\n",
    "\n",
    "* Partitions data into training and test \n",
    "* Then trains the following models\n",
    "  * Multi-nomial Naive Bayes classifier \n",
    "  * KNN classifier\n",
    "    * (with a hyper-parameter tuning demonstrating)\n",
    "  * KNN regression  \n",
    "    * (with a hyper-parameter tuning demonstrating)\n",
    "\n",
    "### About the data: \n",
    "\n",
    "* X strings from wikipedia articles about different topics (need to be vectorized first)\n",
    "  \n",
    "* y1 = CATEGORICAL topics  (0,1,2) (pizza, metallurgy, basketball)  --> Classification targets \n",
    "* y2 = NUMERIC CONTINUOUS (sentiment score -1 to 1)  --> Regression targets\n",
    "\n",
    "### Overview\n",
    "\n",
    "* **Classification**\n",
    "  * **Multinomial Naive Bayes (MultinomialNB).** \n",
    "    * The multinomial Naive Bayes classifier is suitable for classification with discrete features (e.g., word counts for text classification). \n",
    "    * The multinomial distribution normally requires integer feature counts. However, in practice, fractional counts such as tf-idf may also work.\n",
    "    * https://scikit-learn.org/stable/modules/generated/sklearn.naive_bayes.MultinomialNB.html\n",
    "  * **Gaussian Naive Bayes (GaussianNB).** \n",
    "    * Gaussian Naive Bayes supports continuous valued features and models each as conforming to a Gaussian (normal) distribution. \n",
    "    * An approach to create a simple model is to assume that the data is described by a Gaussian distribution with no co-variance (independent dimensions) between dimensions.\n",
    "    * https://iq.opengenus.org/gaussian-naive-bayes/\n",
    "  * **KNN** \n",
    "    * Classifier implementing the k-nearest neighbors vote.\n",
    "* **Regression**\n",
    "  * **KNN**\n",
    "    * Regression based on k-nearest neighbors.\n",
    "    * The target is predicted by local interpolation of the targets associated of the nearest neighbors in the training set.\n"
   ]
  },
  {
   "cell_type": "markdown",
   "metadata": {},
   "source": [
    "### Import"
   ]
  },
  {
   "cell_type": "code",
   "execution_count": 18,
   "metadata": {},
   "outputs": [],
   "source": [
    "import matplotlib.pyplot as plt\n",
    "import pandas as pd\n",
    "from sklearn.feature_extraction.text import CountVectorizer\n",
    "import numpy as np\n",
    "from sklearn.metrics import accuracy_score\n"
   ]
  },
  {
   "cell_type": "markdown",
   "metadata": {},
   "source": [
    "### Read and re-format"
   ]
  },
  {
   "cell_type": "code",
   "execution_count": 19,
   "metadata": {},
   "outputs": [
    {
     "name": "stdout",
     "output_type": "stream",
     "text": [
      "(5693, 3)\n",
      "index = 0 : label = pizza\n",
      "index = 1 : label = metallurgy\n",
      "index = 2 : label = basketball\n",
      "number of text chunks =  5693\n",
      "['word first appeared latin text town gaeta still part byzantine empire 997 ad text state tenant certain property give bishop gaeta duodecim pizze twelve every christmas day another twelve every easter sunday suggested etymology include byzantine greek late latin pitta cf', 'modern greek pitta bread apulia calabrian byzantine italy pitta round flat bread baked oven high temperature sometimes topping', 'word pitta turn traced either ancient greek pikte fermented pastry latin became picta ancient greek pissa attic pitta pitch tea bran bran bread']\n"
     ]
    }
   ],
   "source": [
    "#RELOAD FILE AND PRETEND THAT IS OUR STARTING POINT \n",
    "df=pd.read_csv('wiki-crawl-results.csv')  \n",
    "print(df.shape)\n",
    "\n",
    "#CONVERT FROM STRING LABELS TO INTEGERS \n",
    "labels=[]; #y1=[]; y2=[]\n",
    "y1=[]\n",
    "for label in df[\"label\"]:\n",
    "    if label not in labels:\n",
    "        labels.append(label)\n",
    "        print(\"index =\",len(labels)-1,\": label =\",label)\n",
    "    for i in range(0,len(labels)):\n",
    "        if(label==labels[i]):\n",
    "            y1.append(i)\n",
    "y1=np.array(y1)\n",
    "\n",
    "# CONVERT DF TO LIST OF STRINGS \n",
    "corpus=df[\"text\"].to_list()\n",
    "y2=df[\"sentiment\"].to_numpy()\n",
    "\n",
    "print(\"number of text chunks = \",len(corpus))\n",
    "print(corpus[0:3])\n"
   ]
  },
  {
   "cell_type": "markdown",
   "metadata": {},
   "source": [
    "### Vectorize the text data"
   ]
  },
  {
   "cell_type": "code",
   "execution_count": 20,
   "metadata": {},
   "outputs": [
    {
     "name": "stdout",
     "output_type": "stream",
     "text": [
      "(5693, 12813) (5693,) (5693,)\n",
      "DATA POINT-0: [0. 0. 0. 0. 0. 0. 0. 0. 0. 0.] y1 = 0   y2 = 0.2732\n"
     ]
    }
   ],
   "source": [
    "\n",
    "# INITIALIZE COUNT VECTORIZER\n",
    "# minDF = 0.01 means \"ignore terms that appear in less than 1% of the documents\". \n",
    "# minDF = 5 means \"ignore terms that appear in less than 5 documents\".\n",
    "vectorizer=CountVectorizer(min_df=0.001)   \n",
    "\n",
    "# RUN COUNT VECTORIZER ON OUR COURPUS \n",
    "Xs  =  vectorizer.fit_transform(corpus)   \n",
    "X=np.array(Xs.todense())\n",
    "\n",
    "#CONVERT TO ONE-HOT VECTORS\n",
    "maxs=np.max(X,axis=0)\n",
    "X=np.ceil(X/maxs)\n",
    "\n",
    "# DOUBLE CHECK \n",
    "print(X.shape,y1.shape,y2.shape)\n",
    "print(\"DATA POINT-0:\",X[0,0:10],\"y1 =\",y1[0],\"  y2 =\",y2[0])"
   ]
  },
  {
   "cell_type": "markdown",
   "metadata": {},
   "source": [
    "### Partition Data\n",
    "\n",
    "**Assignment 3.2.4: Break data into an 80-20 training/test set** \n",
    "\n",
    "As a sanity check, reprint the shapes to make sure everything is correct\n",
    "\n",
    "```\n",
    "x_train.shape\t\t: (120, 4)\n",
    "y_train.shape\t\t: (120,)\n",
    "X_test.shape\t\t: (30, 4)\n",
    "y_test.shape\t\t: (30,)\n",
    "```"
   ]
  },
  {
   "cell_type": "code",
   "execution_count": 21,
   "metadata": {},
   "outputs": [
    {
     "name": "stdout",
     "output_type": "stream",
     "text": [
      "[0 0 0 0 0 0 0 0 0 0 0 0 0 0 0 0 0 0 0 0 0 0 0 0 0 0 0 0 0 0 0 0 0 0 0 0 0\n",
      " 0 0 0 0 0 0 0 0 0 0 0 0 0 0 0 0 0 0 0 0 0 0 0 0 0 0 0 0 0 0 0 0 0 0 0 0 0\n",
      " 0 0 0 0 0 0 0 0 0 0 0 0 0 0 0 0 0 0 0 0 0 0 0 0 0 0 0 0 0 0 0 0 0 0 0 0 0\n",
      " 0 0 0 0 0 0 0 0 0 0 0 0 0 0 0 0 0 0 0 0 0 0 0 0 0 0 0 0 0 0 0 0 0 0 0 0 0\n",
      " 0 0 0 0 0 0 0 0 0 1 1 1 1 1 1 1 1 1 1 1 1 1 1 1 1 1 1 1 1 1 1 1 1 1 1 1 1\n",
      " 1 1 1 1 1 1 1 1 1 1 1 1 1 1 1]\n"
     ]
    }
   ],
   "source": [
    "# BEFORE SPLIT\n",
    "print(y1[1000:1200])"
   ]
  },
  {
   "cell_type": "code",
   "execution_count": 22,
   "metadata": {},
   "outputs": [
    {
     "name": "stdout",
     "output_type": "stream",
     "text": [
      "x_train.shape\t\t: (4554, 12813)\n",
      "y_train.shape\t\t: (4554,)\n",
      "X_test.shape\t\t: (1139, 12813)\n",
      "y_test.shape\t\t: (1139,)\n"
     ]
    }
   ],
   "source": [
    "# INSERT CODE TO PARTITION DATASET INTO TRAINING-TEST\n",
    "\n",
    "from sklearn.model_selection import train_test_split\n",
    "test_ratio=0.2\n",
    "\n",
    "# SPLIT ARRAYS OR MATRICES INTO RANDOM TRAIN AND TEST SUBSETS.\n",
    "x_train, x_test, y_train, y_test = train_test_split(X, y1, test_size=test_ratio, random_state=0)\n",
    "y_train=y_train.flatten()\n",
    "y_test=y_test.flatten()\n",
    "\n",
    "print(\"x_train.shape\t\t:\",x_train.shape)\n",
    "print(\"y_train.shape\t\t:\",y_train.shape)\n",
    "\n",
    "print(\"X_test.shape\t\t:\",x_test.shape)\n",
    "print(\"y_test.shape\t\t:\",y_test.shape)"
   ]
  },
  {
   "cell_type": "code",
   "execution_count": 23,
   "metadata": {},
   "outputs": [
    {
     "name": "stdout",
     "output_type": "stream",
     "text": [
      "[2 1 1 1 2 2 0 2 2 2 2 2 1 0 1 2 2 1 0 2 2 0 1 1 0 1 1 2 1 0 2 1 2 1 2 2 1\n",
      " 1 2 1 1 2 0 0 2 1 0 0 1 1 1 0 1 0 1 1 0 0 1 0 1 1 1 1 1 1 1 1 0 0 2 1 1 0\n",
      " 1 2 1 1 0 1 0 0 2 2 1 1 1 1 1 1 2 2 1 1 0 2 1 1 0 1]\n"
     ]
    }
   ],
   "source": [
    "#CHECK TO MAKE SURE IT WAS RANDOMIZED \n",
    "print(y_train[0:100])"
   ]
  },
  {
   "cell_type": "markdown",
   "metadata": {},
   "source": [
    "### Utility function\n",
    "\n",
    "* Write a function to report accuracy\n",
    "* Note this will act on object stored in pythons global scope. Therefore as long as everything is named the same you can recycle it for multiple models"
   ]
  },
  {
   "cell_type": "code",
   "execution_count": null,
   "metadata": {},
   "outputs": [],
   "source": [
    "\n",
    "def report(y,ypred):\n",
    "      #ACCURACY COMPUTE \n",
    "      print(\"Accuracy:\",accuracy_score(y, ypred)*100)\n",
    "      print(\"Number of mislabeled points out of a total %d points = %d\"\n",
    "            % (y.shape[0], (y != ypred).sum()))\n",
    "\n",
    "def print_model_summary():\n",
    "      # LABEL PREDICTIONS FOR TRAINING AND TEST SET \n",
    "      yp_train = model.predict(x_train)\n",
    "      yp_test = model.predict(x_test)\n",
    "\n",
    "      print(\"ACCURACY CALCULATION\\n\")\n",
    "\n",
    "      print(\"TRAINING SET:\")\n",
    "      report(y_train,yp_train)\n",
    "\n",
    "      print(\"\\nTEST SET (UNTRAINED DATA):\")\n",
    "      report(y_test,yp_test)\n",
    "\n",
    "      print(\"\\nCHECK FIRST 20 PREDICTIONS\")\n",
    "      print(\"TRAINING SET:\")\n",
    "      print(y_train[0:20])\n",
    "      print(yp_train[0:20])\n",
    "      print(\"ERRORS:\",yp_train[0:20]-y_train[0:20])\n",
    "\n",
    "      print(\"\\nTEST SET (UNTRAINED DATA):\")\n",
    "      print(y_test[0:20])\n",
    "      print(yp_test[0:20])\n",
    "      print(\"ERRORS:\",yp_test[0:20]-y_test[0:20])"
   ]
  },
  {
   "cell_type": "markdown",
   "metadata": {},
   "source": [
    "## Classification model-1: Multinomial Naive Bayes  \n",
    "\n",
    "The following code applies the multi-nomial Naive Bayes classifier to the text data-set generated with wikipeda"
   ]
  },
  {
   "cell_type": "markdown",
   "metadata": {},
   "source": [
    "### Train model \n",
    "\n",
    "* Use SkLearn to train a MultinomialNB model \n",
    "*  When the model is trained, insert code to output the following information about the training and test set (your numbers will vary)\n",
    "   * **Remember that the test set was NOT seen during the training process, and therefore \"test\" predictions show how the model does on new \"unseen\" data**\n",
    "  \n"
   ]
  },
  {
   "cell_type": "code",
   "execution_count": null,
   "metadata": {},
   "outputs": [
    {
     "name": "stdout",
     "output_type": "stream",
     "text": [
      "ACCURACY CALCULATION\n",
      "\n",
      "TRAINING SET:\n",
      "Accuracy: 97.76021080368906\n",
      "Number of mislabeled points out of a total 4554 points = 102\n",
      "\n",
      "TEST SET (UNTRAINED DATA):\n",
      "Accuracy: 93.32748024582968\n",
      "Number of mislabeled points out of a total 1139 points = 76\n",
      "\n",
      "CHECK FIRST 20 PREDICTIONS\n",
      "TRAINING SET:\n",
      "[2 1 1 1 2 2 0 2 2 2 2 2 1 0 1 2 2 1 0 2]\n",
      "[2 1 1 1 2 2 0 2 2 2 2 2 1 0 1 2 2 1 0 2]\n",
      "ERRORS: [0 0 0 0 0 0 0 0 0 0 0 0 0 0 0 0 0 0 0 0]\n",
      "\n",
      "TEST SET (UNTRAINED DATA):\n",
      "[1 0 2 2 1 1 1 2 0 1 1 1 0 1 1 1 1 1 2 2]\n",
      "[1 0 2 2 1 1 1 2 0 1 2 1 0 1 1 1 1 1 2 2]\n",
      "ERRORS: [0 0 0 0 0 0 0 0 0 0 1 0 0 0 0 0 0 0 0 0]\n"
     ]
    }
   ],
   "source": [
    "from sklearn.naive_bayes import MultinomialNB\n",
    "\n",
    "# INITIALIZE MODEL \n",
    "model = MultinomialNB()\n",
    "\n",
    "# TRAIN MODEL \n",
    "model.fit(x_train,y_train)\n",
    "\n",
    "# PRINT REPORT USING UTILITY FUNCTION ABOVE\n",
    "print_model_summary()"
   ]
  },
  {
   "cell_type": "markdown",
   "metadata": {},
   "source": [
    "## Classification model-2: KNN \n",
    "\n",
    "#### Hyper-Parameter tuning"
   ]
  },
  {
   "cell_type": "code",
   "execution_count": null,
   "metadata": {},
   "outputs": [
    {
     "name": "stdout",
     "output_type": "stream",
     "text": [
      "n_neighbors = 1\n",
      " train accuracy: 100.0\n",
      " test accuracy: 64.35469710272169\n",
      "n_neighbors = 2\n",
      " train accuracy: 95.14712340799298\n",
      " test accuracy: 64.96927129060579\n",
      "n_neighbors = 3\n",
      " train accuracy: 71.32191480017566\n",
      " test accuracy: 51.79982440737489\n",
      "n_neighbors = 4\n",
      " train accuracy: 70.02635046113306\n",
      " test accuracy: 52.589991220368745\n",
      "n_neighbors = 5\n",
      " train accuracy: 54.896794027228815\n",
      " test accuracy: 44.95171202809482\n",
      "n_neighbors = 6\n",
      " train accuracy: 67.3473869126043\n",
      " test accuracy: 55.04828797190518\n",
      "n_neighbors = 7\n",
      " train accuracy: 77.4483970136144\n",
      " test accuracy: 67.25197541703248\n",
      "n_neighbors = 8\n",
      " train accuracy: 83.94817742643829\n",
      " test accuracy: 70.7638279192274\n",
      "n_neighbors = 9\n",
      " train accuracy: 83.50900307422047\n",
      " test accuracy: 71.11501316944688\n",
      "n_neighbors = 10\n",
      " train accuracy: 86.58322353974528\n",
      " test accuracy: 74.53906935908692\n",
      "n_neighbors = 11\n",
      " train accuracy: 83.35529205094423\n",
      " test accuracy: 74.36347673397718\n",
      "n_neighbors = 12\n",
      " train accuracy: 83.97013614404919\n",
      " test accuracy: 73.13432835820896\n",
      "n_neighbors = 13\n",
      " train accuracy: 80.96179183135705\n",
      " test accuracy: 72.16856892010536\n",
      "n_neighbors = 14\n",
      " train accuracy: 80.34694773825208\n",
      " test accuracy: 72.25636523266023\n",
      "n_neighbors = 15\n",
      " train accuracy: 78.2389108476065\n",
      " test accuracy: 72.16856892010536\n",
      "n_neighbors = 16\n",
      " train accuracy: 74.19850680720246\n",
      " test accuracy: 67.95434591747147\n",
      "n_neighbors = 17\n",
      " train accuracy: 73.25428194993412\n",
      " test accuracy: 67.33977172958735\n",
      "n_neighbors = 18\n",
      " train accuracy: 71.27799736495388\n",
      " test accuracy: 66.37401229148375\n",
      "n_neighbors = 19\n",
      " train accuracy: 69.03820816864295\n",
      " test accuracy: 66.02282704126426\n",
      "n_neighbors = 20\n",
      " train accuracy: 68.24769433465086\n",
      " test accuracy: 65.14486391571555\n",
      "n_neighbors = 21\n",
      " train accuracy: 69.74088713219147\n",
      " test accuracy: 66.02282704126426\n",
      "n_neighbors = 22\n",
      " train accuracy: 68.51119894598156\n",
      " test accuracy: 65.32045654082529\n",
      "n_neighbors = 23\n",
      " train accuracy: 69.87263943785683\n",
      " test accuracy: 65.67164179104478\n",
      "n_neighbors = 24\n",
      " train accuracy: 66.66666666666666\n",
      " test accuracy: 64.6180860403863\n",
      "n_neighbors = 25\n",
      " train accuracy: 66.90821256038647\n",
      " test accuracy: 64.09130816505707\n",
      "n_neighbors = 26\n",
      " train accuracy: 66.66666666666666\n",
      " test accuracy: 64.44249341527656\n",
      "n_neighbors = 27\n",
      " train accuracy: 65.92007026789636\n",
      " test accuracy: 64.26690079016682\n",
      "n_neighbors = 28\n",
      " train accuracy: 64.97584541062803\n",
      " test accuracy: 62.94995610184372\n",
      "n_neighbors = 29\n",
      " train accuracy: 63.92182696530523\n",
      " test accuracy: 63.38893766461808\n",
      "n_neighbors = 30\n",
      " train accuracy: 63.26306543697848\n",
      " test accuracy: 62.510974539069366\n",
      "n_neighbors = 31\n",
      " train accuracy: 63.37285902503294\n",
      " test accuracy: 63.125548726953475\n",
      "n_neighbors = 32\n",
      " train accuracy: 62.09925340360123\n",
      " test accuracy: 61.89640035118526\n",
      "n_neighbors = 33\n",
      " train accuracy: 61.528326745718054\n",
      " test accuracy: 61.89640035118526\n",
      "n_neighbors = 34\n",
      " train accuracy: 61.61616161616161\n",
      " test accuracy: 61.7208077260755\n",
      "n_neighbors = 35\n",
      " train accuracy: 62.47255160298638\n",
      " test accuracy: 62.159789288849865\n",
      "n_neighbors = 36\n",
      " train accuracy: 60.97935880544576\n",
      " test accuracy: 61.018437225636525\n",
      "n_neighbors = 37\n",
      " train accuracy: 60.584101888449716\n",
      " test accuracy: 60.930640913081646\n",
      "n_neighbors = 38\n",
      " train accuracy: 60.54018445322793\n",
      " test accuracy: 60.84284460052678\n",
      "n_neighbors = 39\n",
      " train accuracy: 60.05709266578832\n",
      " test accuracy: 60.7550482879719\n"
     ]
    }
   ],
   "source": [
    "from sklearn.neighbors import KNeighborsClassifier\n",
    "\n",
    "\n",
    "# HYPER PARAMETER SEARCH FOR OPTIMAL NUMBER OF NEIGHBORS \n",
    "num_neighbors=[]\n",
    "train_accuracy=[]\n",
    "test_accuracy=[]\n",
    "\n",
    "# LOOP OVER HYPER-PARAM\n",
    "for i in range(1,40):\n",
    "    # INITIALIZE MODEL \n",
    "    model = KNeighborsClassifier(n_neighbors=i)\n",
    "\n",
    "    # TRAIN MODEL \n",
    "    model.fit(x_train,y_train)\n",
    "\n",
    "    # LABEL PREDICTIONS FOR TRAINING AND TEST SET \n",
    "    yp_train = model.predict(x_train)\n",
    "    yp_test = model.predict(x_test)\n",
    "\n",
    "    print(\"n_neighbors =\",i)\n",
    "    acc1=accuracy_score(y_train, yp_train)*100\n",
    "    acc2=accuracy_score(y_test, yp_test)*100\n",
    "\n",
    "    num_neighbors.append(i)\n",
    "    train_accuracy.append(acc1)\n",
    "    test_accuracy.append(acc2)\n",
    "\n",
    "    print(\" train accuracy:\",acc1)\n",
    "    print(\" test accuracy:\" ,acc2)"
   ]
  },
  {
   "cell_type": "markdown",
   "metadata": {},
   "source": [
    "### Convergence plot"
   ]
  },
  {
   "cell_type": "code",
   "execution_count": null,
   "metadata": {},
   "outputs": [
    {
     "data": {
      "text/plain": [
       "Text(0, 0.5, 'Training (black) and test (blue) accuracy')"
      ]
     },
     "execution_count": 8,
     "metadata": {},
     "output_type": "execute_result"
    },
    {
     "data": {
      "image/png": "[encoded data removed]",
      "text/plain": [
       "<Figure size 640x480 with 1 Axes>"
      ]
     },
     "metadata": {},
     "output_type": "display_data"
    }
   ],
   "source": [
    "plt.plot(num_neighbors,train_accuracy ,linewidth=2, color='k')\n",
    "plt.plot(num_neighbors,test_accuracy ,linewidth=2, color='b')\n",
    "\n",
    "plt.xlabel(\"Number of neighbors in KNN\")\n",
    "plt.ylabel(\"Training (black) and test (blue) accuracy\")"
   ]
  },
  {
   "cell_type": "markdown",
   "metadata": {},
   "source": [
    "#### Re-train with optimal parameters"
   ]
  },
  {
   "cell_type": "code",
   "execution_count": null,
   "metadata": {},
   "outputs": [
    {
     "name": "stdout",
     "output_type": "stream",
     "text": [
      "ACCURACY CALCULATION\n",
      "\n",
      "TRAINING SET:\n",
      "Accuracy: 63.26306543697848\n",
      "Number of mislabeled points out of a total 4554 points = 1673\n",
      "\n",
      "TEST SET (UNTRAINED DATA):\n",
      "Accuracy: 62.510974539069366\n",
      "Number of mislabeled points out of a total 1139 points = 427\n",
      "\n",
      "CHECK FIRST 20 PREDICTIONS\n",
      "TRAINING SET:\n",
      "[2 1 1 1 2 2 0 2 2 2 2 2 1 0 1 2 2 1 0 2]\n",
      "[1 1 1 1 2 1 1 1 1 1 2 1 1 1 1 1 1 1 1 1]\n",
      "ERRORS: [-1  0  0  0  0 -1  1 -1 -1 -1  0 -1  0  1  0 -1 -1  0  1 -1]\n",
      "\n",
      "TEST SET (UNTRAINED DATA):\n",
      "[1 0 2 2 1 1 1 2 0 1 1 1 0 1 1 1 1 1 2 2]\n",
      "[1 1 2 2 1 1 1 1 1 1 1 1 1 1 1 1 1 1 1 1]\n",
      "ERRORS: [ 0  1  0  0  0  0  0 -1  1  0  0  0  1  0  0  0  0  0 -1 -1]\n"
     ]
    }
   ],
   "source": [
    "# RETRAIN WITH OPTIMAL HYPER-PARAMETERS\n",
    "\n",
    "# INITIALIZE MODEL \n",
    "model = KNeighborsClassifier(n_neighbors=30)\n",
    "\n",
    "# TRAIN MODEL \n",
    "model.fit(x_train,y_train)\n",
    "\n",
    "# PRINT REPORT USING UTILITY FUNCTION ABOVE\n",
    "print_model_summary()"
   ]
  },
  {
   "cell_type": "markdown",
   "metadata": {},
   "source": [
    "## Regression model-1: KNN \n",
    "\n",
    "* fit y2 (sentiment score from -1 to 1) instead of y1 (classes) \n",
    "\n",
    "### Re-partition data"
   ]
  },
  {
   "cell_type": "code",
   "execution_count": null,
   "metadata": {},
   "outputs": [
    {
     "name": "stdout",
     "output_type": "stream",
     "text": [
      "x_train.shape\t\t: (4554, 12813)\n",
      "y_train.shape\t\t: (4554,)\n",
      "X_test.shape\t\t: (1139, 12813)\n",
      "y_test.shape\t\t: (1139,)\n"
     ]
    }
   ],
   "source": [
    "\n",
    "from sklearn.model_selection import train_test_split\n",
    "test_ratio=0.2\n",
    "x_train, x_test, y_train, y_test = train_test_split(X, y2, test_size=test_ratio, random_state=0)\n",
    "y_train=y_train.flatten()\n",
    "y_test=y_test.flatten()\n",
    "\n",
    "print(\"x_train.shape\t\t:\",x_train.shape)\n",
    "print(\"y_train.shape\t\t:\",y_train.shape)\n",
    "\n",
    "print(\"X_test.shape\t\t:\",x_test.shape)\n",
    "print(\"y_test.shape\t\t:\",y_test.shape)"
   ]
  },
  {
   "cell_type": "markdown",
   "metadata": {},
   "source": [
    "#### Hyper-Parameter tuning"
   ]
  },
  {
   "cell_type": "code",
   "execution_count": null,
   "metadata": {},
   "outputs": [
    {
     "name": "stdout",
     "output_type": "stream",
     "text": [
      "n_neighbors = 1\n",
      " train MAE: 5.6653491436100135e-06\n",
      " test MAE: 0.31909543459174716\n",
      "n_neighbors = 2\n",
      " train MAE: 0.1622590689503733\n",
      " test MAE: 0.30970697980684814\n",
      "n_neighbors = 3\n",
      " train MAE: 0.20266238471673254\n",
      " test MAE: 0.2984139596136962\n",
      "n_neighbors = 4\n",
      " train MAE: 0.22210323342116822\n",
      " test MAE: 0.2947245829675153\n",
      "n_neighbors = 5\n",
      " train MAE: 0.23439634606938953\n",
      " test MAE: 0.29549715539947324\n",
      "n_neighbors = 6\n",
      " train MAE: 0.2429700300102474\n",
      " test MAE: 0.29384625402399767\n",
      "n_neighbors = 7\n",
      " train MAE: 0.24384770060857017\n",
      " test MAE: 0.28799697729838203\n",
      "n_neighbors = 8\n",
      " train MAE: 0.23772277667984187\n",
      " test MAE: 0.2782567603160667\n",
      "n_neighbors = 9\n",
      " train MAE: 0.2441465744400527\n",
      " test MAE: 0.28001013559652715\n",
      "n_neighbors = 10\n",
      " train MAE: 0.24747160957400086\n",
      " test MAE: 0.2812890781387182\n",
      "n_neighbors = 11\n",
      " train MAE: 0.24641456861101127\n",
      " test MAE: 0.2783851783861441\n",
      "n_neighbors = 12\n",
      " train MAE: 0.2403726321182843\n",
      " test MAE: 0.27211726660813573\n",
      "n_neighbors = 13\n",
      " train MAE: 0.242167489274011\n",
      " test MAE: 0.27075340041872087\n",
      "n_neighbors = 14\n",
      " train MAE: 0.24206867902628773\n",
      " test MAE: 0.2694328107362348\n",
      "n_neighbors = 15\n",
      " train MAE: 0.24331111111111106\n",
      " test MAE: 0.26872666081357915\n",
      "n_neighbors = 16\n",
      " train MAE: 0.24281590085638996\n",
      " test MAE: 0.26780289727831436\n",
      "n_neighbors = 17\n",
      " train MAE: 0.2429477240435041\n",
      " test MAE: 0.2678057790631617\n",
      "n_neighbors = 18\n",
      " train MAE: 0.24181752915629726\n",
      " test MAE: 0.2656260852599746\n",
      "n_neighbors = 19\n",
      " train MAE: 0.24207073943092247\n",
      " test MAE: 0.2649499376184095\n",
      "n_neighbors = 20\n",
      " train MAE: 0.2417635090030742\n",
      " test MAE: 0.26449732660228276\n",
      "n_neighbors = 21\n",
      " train MAE: 0.24158763515067866\n",
      " test MAE: 0.26335230151762196\n",
      "n_neighbors = 22\n",
      " train MAE: 0.24185496766079773\n",
      " test MAE: 0.26297545693989943\n",
      "n_neighbors = 23\n",
      " train MAE: 0.24150783830746023\n",
      " test MAE: 0.26282234988739167\n",
      "n_neighbors = 24\n",
      " train MAE: 0.24129461279461278\n",
      " test MAE: 0.26181138791337427\n",
      "n_neighbors = 25\n",
      " train MAE: 0.24106946245059288\n",
      " test MAE: 0.2615086005267779\n",
      "n_neighbors = 26\n",
      " train MAE: 0.24106479679740547\n",
      " test MAE: 0.2605897379617748\n",
      "n_neighbors = 27\n",
      " train MAE: 0.24001212121212118\n",
      " test MAE: 0.2589350469872858\n",
      "n_neighbors = 28\n",
      " train MAE: 0.23909077655436353\n",
      " test MAE: 0.258036598520005\n",
      "n_neighbors = 29\n",
      " train MAE: 0.23867535096088321\n",
      " test MAE: 0.25748747540189515\n",
      "n_neighbors = 30\n",
      " train MAE: 0.23778869858000296\n",
      " test MAE: 0.25636986830553116\n",
      "n_neighbors = 31\n",
      " train MAE: 0.2369674125547197\n",
      " test MAE: 0.2558209776544224\n",
      "n_neighbors = 32\n",
      " train MAE: 0.2366199796881862\n",
      " test MAE: 0.2549046724100088\n",
      "n_neighbors = 33\n",
      " train MAE: 0.23599156785243736\n",
      " test MAE: 0.25432358262165117\n",
      "n_neighbors = 34\n",
      " train MAE: 0.23552035185615752\n",
      " test MAE: 0.25388481382017253\n",
      "n_neighbors = 35\n",
      " train MAE: 0.23494168642951252\n",
      " test MAE: 0.25344586228521254\n",
      "n_neighbors = 36\n",
      " train MAE: 0.23477137132191483\n",
      " test MAE: 0.25294514925373135\n",
      "n_neighbors = 37\n",
      " train MAE: 0.23484711035145814\n",
      " test MAE: 0.2531580214982322\n",
      "n_neighbors = 38\n",
      " train MAE: 0.23459501132607538\n",
      " test MAE: 0.25284062658842016\n",
      "n_neighbors = 39\n",
      " train MAE: 0.23457319572536967\n",
      " test MAE: 0.2526152270322595\n"
     ]
    }
   ],
   "source": [
    "from sklearn.neighbors import KNeighborsRegressor\n",
    "from sklearn.metrics import mean_absolute_percentage_error\n",
    "from sklearn.metrics import mean_absolute_error\n",
    "\n",
    "# HYPER PARAMETER SEARCH FOR OPTIMAL NUMBER OF NEIGHBORS \n",
    "num_neighbors_2=[]\n",
    "train_error=[]\n",
    "test_error=[]\n",
    "\n",
    "# LOOP OVER HYPER-PARAM\n",
    "for i in range(1,33):\n",
    "    # INITIALIZE MODEL \n",
    "    model = KNeighborsRegressor(n_neighbors=i)\n",
    "\n",
    "    # TRAIN MODEL \n",
    "    model.fit(x_train,y_train)\n",
    "\n",
    "    # OUTPUT PREDICTIONS FOR TRAINING AND TEST SET \n",
    "    yp_train = model.predict(x_train)\n",
    "    yp_test = model.predict(x_test)\n",
    "\n",
    "    print(\"n_neighbors =\",i)\n",
    "    # shift=1+np.min(y_train) #add shift to remove division by zero \n",
    "    err1=mean_absolute_error(y_train, yp_train) \n",
    "    err2=mean_absolute_error(y_test, yp_test) \n",
    "\n",
    "    num_neighbors_2.append(i)\n",
    "    train_error.append(err1)\n",
    "    test_error.append(err2)\n",
    "\n",
    "    print(\" train MAE:\",err1)\n",
    "    print(\" test MAE:\" ,err2)"
   ]
  },
  {
   "cell_type": "markdown",
   "metadata": {},
   "source": [
    "### Convergence plot"
   ]
  },
  {
   "cell_type": "code",
   "execution_count": null,
   "metadata": {},
   "outputs": [
    {
     "data": {
      "text/plain": [
       "Text(0, 0.5, 'Training (black) and test (blue) MAE (error)')"
      ]
     },
     "execution_count": 13,
     "metadata": {},
     "output_type": "execute_result"
    },
    {
     "data": {
      "image/png": "[encoded data removed]",
      "text/plain": [
       "<Figure size 640x480 with 1 Axes>"
      ]
     },
     "metadata": {},
     "output_type": "display_data"
    }
   ],
   "source": [
    "plt.plot(num_neighbors_2,train_error ,linewidth=2, color='k')\n",
    "plt.plot(num_neighbors_2,test_error ,linewidth=2, color='b')\n",
    "\n",
    "plt.xlabel(\"Number of neighbors in KNN\")\n",
    "plt.ylabel(\"Training (black) and test (blue) MAE (error)\")"
   ]
  },
  {
   "cell_type": "markdown",
   "metadata": {},
   "source": [
    "#### Re-train with optimal parameters"
   ]
  },
  {
   "cell_type": "code",
   "execution_count": null,
   "metadata": {},
   "outputs": [],
   "source": [
    "# INITIALIZE MODEL \n",
    "model = KNeighborsRegressor(n_neighbors=35)\n",
    "\n",
    "# TRAIN MODEL \n",
    "model.fit(x_train,y_train)\n",
    "\n",
    "# OUTPUT PREDICTIONS FOR TRAINING AND TEST SET \n",
    "yp_train = model.predict(x_train)\n",
    "yp_test = model.predict(x_test)"
   ]
  },
  {
   "cell_type": "markdown",
   "metadata": {},
   "source": [
    "### Parity Plot\n",
    "\n",
    "* Plotting y_pred vs y_data lets you see how good the fit is\n",
    "\n",
    "* The closer to the line y=x the better the fit (ypred=ydata --> prefect fit)"
   ]
  },
  {
   "cell_type": "code",
   "execution_count": null,
   "metadata": {},
   "outputs": [
    {
     "data": {
      "text/plain": [
       "Text(0, 0.5, 'y_pred (blue=test)(black=Train)')"
      ]
     },
     "execution_count": 16,
     "metadata": {},
     "output_type": "execute_result"
    },
    {
     "data": {
      "image/png": "[encoded data removed]",
      "text/plain": [
       "<Figure size 640x480 with 1 Axes>"
      ]
     },
     "metadata": {},
     "output_type": "display_data"
    }
   ],
   "source": [
    "plt.plot(y_train,yp_train ,\"o\", color='k')\n",
    "plt.plot(y_test,yp_test ,\"o\", color='b')\n",
    "plt.plot(y_test,y_test ,\"-\", color='r')\n",
    "\n",
    "plt.xlabel(\"y_data\")\n",
    "plt.ylabel(\"y_pred (blue=test)(black=Train)\")"
   ]
  },
  {
   "cell_type": "code",
   "execution_count": null,
   "metadata": {},
   "outputs": [],
   "source": [
    "# # RUN CLASSIFICATION REPORT FOR TRAINING SET\n",
    "# from sklearn.metrics import classification_report\n",
    "# print(\"Classification Report \\n {}\".format(classification_report(y_train, yp_train, labels=range(0,10))))"
   ]
  }
 ],
 "metadata": {
  "kernelspec": {
   "display_name": "Python 3.10.4 ('ANLY501')",
   "language": "python",
   "name": "python3"
  },
  "language_info": {
   "codemirror_mode": {
    "name": "ipython",
    "version": 3
   },
   "file_extension": ".py",
   "mimetype": "text/x-python",
   "name": "python",
   "nbconvert_exporter": "python",
   "pygments_lexer": "ipython3",
   "version": "3.10.4"
  },
  "orig_nbformat": 4,
  "vscode": {
   "interpreter": {
    "hash": "3bbb781ca6673b7d7a2eaec0820775eebfaab6ec1fac7365fb415515f8c23aa5"
   }
  }
 },
 "nbformat": 4,
 "nbformat_minor": 2
}
